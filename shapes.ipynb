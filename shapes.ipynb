{
 "cells": [
  {
   "cell_type": "code",
   "execution_count": 21,
   "metadata": {},
   "outputs": [],
   "source": [
    "import torch\n",
    "import torch.nn as nn\n",
    "import numpy as np\n",
    "import matplotlib.pyplot as plt\n",
    "import torch.utils.data as data_utils\n",
    "import torch.nn as nn\n",
    "import torch.optim as optim\n",
    "from sklearn.linear_model import LinearRegression\n",
    "import torchvision\n",
    "import torchvision.transforms as transforms\n",
    "import torch.nn.functional as F\n",
    "import pandas as pd"
   ]
  },
  {
   "cell_type": "code",
   "execution_count": 22,
   "metadata": {},
   "outputs": [],
   "source": [
    "my_transfrom = transforms.Compose([transforms.Resize((64,64)),transforms.RandomVerticalFlip(),transforms.RandomHorizontalFlip(), transforms.ToTensor()])\n",
    "dataset = torchvision.datasets.ImageFolder(root = 'DATA', transform= my_transfrom)"
   ]
  },
  {
   "cell_type": "code",
   "execution_count": 23,
   "metadata": {},
   "outputs": [
    {
     "data": {
      "text/plain": [
       "['Circles', 'Stars', 'Triangles']"
      ]
     },
     "execution_count": 23,
     "metadata": {},
     "output_type": "execute_result"
    }
   ],
   "source": [
    "dataset.classes"
   ]
  },
  {
   "cell_type": "code",
   "execution_count": 24,
   "metadata": {},
   "outputs": [],
   "source": [
    "train_size = int(0.8 * len(dataset))\n",
    "test_size = len(dataset) - train_size\n",
    "train_dataset, test_dataset = torch.utils.data.random_split(dataset,[train_size, test_size])\n",
    "\n",
    "# 80% training"
   ]
  },
  {
   "cell_type": "code",
   "execution_count": 25,
   "metadata": {},
   "outputs": [
    {
     "data": {
      "text/plain": [
       "456"
      ]
     },
     "execution_count": 25,
     "metadata": {},
     "output_type": "execute_result"
    }
   ],
   "source": [
    "len(train_dataset)"
   ]
  },
  {
   "cell_type": "code",
   "execution_count": 26,
   "metadata": {},
   "outputs": [],
   "source": [
    "train_loader = torch.utils.data.DataLoader(train_dataset, batch_size = 256, shuffle = True)\n",
    "test_loader = torch.utils.data.DataLoader(test_dataset, batch_size = 256)"
   ]
  },
  {
   "cell_type": "code",
   "execution_count": 27,
   "metadata": {},
   "outputs": [
    {
     "data": {
      "text/plain": [
       "2"
      ]
     },
     "execution_count": 27,
     "metadata": {},
     "output_type": "execute_result"
    }
   ],
   "source": [
    "train_dataset[0][1]"
   ]
  },
  {
   "cell_type": "code",
   "execution_count": 28,
   "metadata": {},
   "outputs": [],
   "source": [
    "device = torch.device('cuda' if torch.cuda.is_available() else 'cpu')"
   ]
  },
  {
   "cell_type": "code",
   "execution_count": 29,
   "metadata": {},
   "outputs": [
    {
     "data": {
      "text/plain": [
       "<torch.utils.data.dataloader.DataLoader at 0x15153e93b10>"
      ]
     },
     "execution_count": 29,
     "metadata": {},
     "output_type": "execute_result"
    }
   ],
   "source": [
    "train_loader"
   ]
  },
  {
   "cell_type": "markdown",
   "metadata": {},
   "source": [
    "# My Net"
   ]
  },
  {
   "cell_type": "code",
   "execution_count": 30,
   "metadata": {},
   "outputs": [],
   "source": [
    "class Net(nn.Module):\n",
    "    def __init__(self):\n",
    "        super().__init__()\n",
    "        self.layer1 = nn.Conv2d(3, 8, 5, padding = 2)\n",
    "        self.layer2 = nn.Conv2d(8, 16, 5, padding = 2)\n",
    "        self.layer3 = nn.Conv2d(16, 32, 5, padding = 2)\n",
    "        self.layer4 = nn.Conv2d(32, 32, 5, padding = 2)\n",
    "        self.layer5 = nn.Conv2d(32, 32, 5, padding = 2)\n",
    "        self.layer6 = nn.Linear(32*64*64, 3)\n",
    "        self.relu = nn.ReLU()\n",
    "    def forward(self, x):\n",
    "        l = self.relu(self.layer1(x))\n",
    "        l = self.relu(self.layer2(l))\n",
    "        l = self.relu(self.layer3(l))\n",
    "        l = self.relu(self.layer4(l))\n",
    "        l = self.relu(self.layer5(l))\n",
    "        l = l.view(-1,32*64*64)\n",
    "        return F.softmax(self.layer6(l), dim=1)"
   ]
  },
  {
   "cell_type": "code",
   "execution_count": 31,
   "metadata": {},
   "outputs": [],
   "source": [
    "net = Net()\n",
    "opt = optim.Adam(net.parameters(), lr=0.001) \n",
    "loss_fn = nn.MSELoss()\n",
    "\n",
    "losses = []\n",
    "accuracy = []"
   ]
  },
  {
   "cell_type": "code",
   "execution_count": 32,
   "metadata": {},
   "outputs": [
    {
     "data": {
      "text/plain": [
       "torch.Size([3, 64, 64])"
      ]
     },
     "execution_count": 32,
     "metadata": {},
     "output_type": "execute_result"
    }
   ],
   "source": [
    "train_dataset[0][0].shape"
   ]
  },
  {
   "cell_type": "code",
   "execution_count": 33,
   "metadata": {},
   "outputs": [
    {
     "name": "stdout",
     "output_type": "stream",
     "text": [
      "0 tensor(0.3268)\n",
      "1 tensor(0.3289)\n",
      "2 tensor(0.3706)\n",
      "3 tensor(0.3728)\n",
      "4 tensor(0.3355)\n",
      "5 tensor(0.3268)\n",
      "6 tensor(0.3377)\n",
      "7 tensor(0.3662)\n",
      "8 tensor(0.3662)\n",
      "9 tensor(0.3662)\n",
      "10 tensor(0.3662)\n",
      "11 tensor(0.3706)\n",
      "12 tensor(0.3772)\n",
      "13 tensor(0.4890)\n",
      "14 tensor(0.5680)\n",
      "15 tensor(0.6140)\n",
      "16 tensor(0.6930)\n",
      "17 tensor(0.7193)\n",
      "18 tensor(0.7368)\n",
      "19 tensor(0.7127)\n",
      "20 tensor(0.7675)\n",
      "21 tensor(0.7522)\n",
      "22 tensor(0.7719)\n",
      "23 tensor(0.8026)\n",
      "24 tensor(0.8224)\n",
      "25 tensor(0.8246)\n",
      "26 tensor(0.8311)\n",
      "27 tensor(0.8289)\n",
      "28 tensor(0.8289)\n",
      "29 tensor(0.8246)\n",
      "30 tensor(0.8465)\n",
      "31 tensor(0.8553)\n",
      "32 tensor(0.8268)\n",
      "33 tensor(0.8487)\n",
      "34 tensor(0.8640)\n",
      "35 tensor(0.8684)\n",
      "36 tensor(0.8640)\n",
      "37 tensor(0.8618)\n",
      "38 tensor(0.8487)\n",
      "39 tensor(0.8684)\n",
      "40 tensor(0.8882)\n",
      "41 tensor(0.8750)\n",
      "42 tensor(0.8816)\n",
      "43 tensor(0.8706)\n",
      "44 tensor(0.9013)\n",
      "45 tensor(0.9101)\n",
      "46 tensor(0.9079)\n",
      "47 tensor(0.9013)\n",
      "48 tensor(0.8816)\n",
      "49 tensor(0.9232)\n",
      "50 tensor(0.9101)\n",
      "51 tensor(0.9057)\n",
      "52 tensor(0.9145)\n",
      "53 tensor(0.9189)\n",
      "54 tensor(0.9167)\n",
      "55 tensor(0.9298)\n",
      "56 tensor(0.9211)\n",
      "57 tensor(0.9298)\n",
      "58 tensor(0.9342)\n",
      "59 tensor(0.9276)\n",
      "60 tensor(0.9408)\n",
      "61 tensor(0.9452)\n",
      "62 tensor(0.9496)\n",
      "63 tensor(0.9342)\n",
      "64 tensor(0.9232)\n",
      "65 tensor(0.9211)\n",
      "66 tensor(0.9298)\n",
      "67 tensor(0.9539)\n",
      "68 tensor(0.9583)\n",
      "69 tensor(0.9583)\n",
      "70 tensor(0.9561)\n",
      "71 tensor(0.9539)\n",
      "72 tensor(0.9518)\n",
      "73 tensor(0.9627)\n",
      "74 tensor(0.9649)\n",
      "75 tensor(0.9715)\n",
      "76 tensor(0.9561)\n",
      "77 tensor(0.9671)\n",
      "78 tensor(0.9803)\n",
      "79 tensor(0.9715)\n",
      "80 tensor(0.9715)\n",
      "81 tensor(0.9671)\n",
      "82 tensor(0.9715)\n",
      "83 tensor(0.9737)\n",
      "84 tensor(0.9781)\n",
      "85 tensor(0.9781)\n",
      "86 tensor(0.9715)\n",
      "87 tensor(0.9803)\n",
      "88 tensor(0.9803)\n",
      "89 tensor(0.9846)\n",
      "90 tensor(0.9693)\n",
      "91 tensor(0.9759)\n",
      "92 tensor(0.9737)\n",
      "93 tensor(0.9583)\n",
      "94 tensor(0.9715)\n",
      "95 tensor(0.9715)\n",
      "96 tensor(0.9825)\n",
      "97 tensor(0.9737)\n",
      "98 tensor(0.9715)\n",
      "99 tensor(0.9825)\n",
      "100 tensor(0.9627)\n",
      "101 tensor(0.9825)\n",
      "102 tensor(0.9737)\n",
      "103 tensor(0.9868)\n",
      "104 tensor(0.9781)\n",
      "105 tensor(0.9605)\n",
      "106 tensor(0.9803)\n",
      "107 tensor(0.9759)\n",
      "108 tensor(0.9846)\n",
      "109 tensor(0.9868)\n",
      "110 tensor(0.9781)\n",
      "111 tensor(0.9846)\n",
      "112 tensor(0.9846)\n",
      "113 tensor(0.9825)\n",
      "114 tensor(0.9781)\n",
      "115 tensor(0.9803)\n",
      "116 tensor(0.9825)\n",
      "117 tensor(0.9825)\n",
      "118 tensor(0.9605)\n",
      "119 tensor(0.9693)\n"
     ]
    }
   ],
   "source": [
    "epochs = 5\n",
    "for epoch in range (epochs):\n",
    "    \n",
    "    total_correct = 0\n",
    "    total = len(train_dataset)\n",
    "    \n",
    "    for images, labels in train_loader:\n",
    "\n",
    "        hot_predictions =  net(images) \n",
    "        predictions = hot_predictions.argmax(axis=1)\n",
    "        nb_correct = sum(predictions == labels)\n",
    "        \n",
    "        total_correct += nb_correct\n",
    "        \n",
    "        hot_labels = F.one_hot(labels, 3).to(torch.float32) \n",
    "\n",
    "        loss = loss_fn(hot_labels, hot_predictions)  \n",
    "        loss.backward()\n",
    "        losses.append(loss.item())\n",
    "        opt.step()\n",
    "        opt.zero_grad()\n",
    "    acc =  total_correct/total\n",
    "    accuracy.append(acc.item())\n",
    "    print(epoch, acc)"
   ]
  },
  {
   "cell_type": "code",
   "execution_count": 40,
   "metadata": {},
   "outputs": [
    {
     "data": {
      "image/png": "[encoded data removed]",
      "text/plain": [
       "<Figure size 1400x500 with 2 Axes>"
      ]
     },
     "metadata": {},
     "output_type": "display_data"
    }
   ],
   "source": [
    "plt.figure(figsize = (14,5))\n",
    "\n",
    "plt.subplot(1,2,1)\n",
    "plt.plot(losses)\n",
    "plt.title(\"Losses\")\n",
    "\n",
    "plt.subplot(1,2,2)\n",
    "plt.plot(accuracy, '*')\n",
    "plt.ylim(0,1) #bc we know the first 10%\n",
    "plt.title(\"Accuracy\")\n",
    "plt.show()"
   ]
  },
  {
   "cell_type": "markdown",
   "metadata": {},
   "source": [
    "# Let's test it"
   ]
  },
  {
   "cell_type": "code",
   "execution_count": 41,
   "metadata": {},
   "outputs": [
    {
     "name": "stdout",
     "output_type": "stream",
     "text": [
      "Accuracy: 0.9217391014099121\n"
     ]
    }
   ],
   "source": [
    "total_correct = 0\n",
    "total = test_size\n",
    "for images, labels in test_loader:\n",
    "    hot_predictions = net(images)\n",
    "    predictions = hot_predictions.argmax(axis=1)\n",
    "    nb_correct = sum(predictions == labels)\n",
    "    total_correct += nb_correct\n",
    "    hot_labels = F.one_hot(labels, 3).to(torch.float32)\n",
    "    loss = loss_fn(hot_labels, hot_predictions)\n",
    "    loss.backward()\n",
    "    opt.step()\n",
    "    opt.zero_grad()\n",
    "acc = total_correct/total\n",
    "print(f\"Accuracy: {acc}\")"
   ]
  },
  {
   "cell_type": "markdown",
   "metadata": {},
   "source": [
    "# Let's save the model"
   ]
  },
  {
   "cell_type": "code",
   "execution_count": 36,
   "metadata": {},
   "outputs": [],
   "source": [
    "# torch.save(net, 'shapes_net100.pkl')"
   ]
  },
  {
   "cell_type": "code",
   "execution_count": 42,
   "metadata": {},
   "outputs": [
    {
     "data": {
      "text/plain": [
       "torch.Size([115, 3, 64, 64])"
      ]
     },
     "execution_count": 42,
     "metadata": {},
     "output_type": "execute_result"
    }
   ],
   "source": [
    "images.shape"
   ]
  },
  {
   "cell_type": "markdown",
   "metadata": {},
   "source": [
    "# Onnx"
   ]
  },
  {
   "cell_type": "code",
   "execution_count": 43,
   "metadata": {},
   "outputs": [],
   "source": [
    "dummy_input = torch.ones(1, 3, 64, 64)"
   ]
  },
  {
   "cell_type": "code",
   "execution_count": 44,
   "metadata": {},
   "outputs": [
    {
     "name": "stdout",
     "output_type": "stream",
     "text": [
      "============= Diagnostic Run torch.onnx.export version 2.0.1+cu118 =============\n",
      "verbose: False, log level: Level.ERROR\n",
      "======================= 0 NONE 0 NOTE 0 WARNING 0 ERROR ========================\n",
      "\n"
     ]
    }
   ],
   "source": [
    "torch.onnx.export(net, dummy_input, 'FioShapes.onnx', export_params = True, verbose = True)"
   ]
  },
  {
   "cell_type": "markdown",
   "metadata": {},
   "source": [
    "# test"
   ]
  },
  {
   "cell_type": "code",
   "execution_count": null,
   "metadata": {},
   "outputs": [],
   "source": []
  }
 ],
 "metadata": {
  "kernelspec": {
   "display_name": "Python 3",
   "language": "python",
   "name": "python3"
  },
  "language_info": {
   "codemirror_mode": {
    "name": "ipython",
    "version": 3
   },
   "file_extension": ".py",
   "mimetype": "text/x-python",
   "name": "python",
   "nbconvert_exporter": "python",
   "pygments_lexer": "ipython3",
   "version": "3.11.4"
  },
  "orig_nbformat": 4
 },
 "nbformat": 4,
 "nbformat_minor": 2
}
